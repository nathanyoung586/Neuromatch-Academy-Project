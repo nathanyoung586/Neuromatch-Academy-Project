{
 "cells": [
  {
   "cell_type": "code",
   "execution_count": 42,
   "metadata": {},
   "outputs": [],
   "source": [
    "import pandas as pd\n",
    "import numpy as np\n",
    "import matplotlib.pyplot as plt"
   ]
  },
  {
   "cell_type": "code",
   "execution_count": 43,
   "metadata": {},
   "outputs": [],
   "source": [
    "#Import trials that were classified as \"bored\"\n",
    "boredom = pd.read_csv('D:\\\\df_nathan.csv')\n",
    "\n",
    "#Rename each parcel to match its corresponding macroparcel\n",
    "macro_parcels = pd.read_csv('C:\\\\Users\\\\natha\\\\Desktop\\\\Neuromatch\\\\mmp_macro.csv',header=None)\n",
    "mp = macro_parcels.iloc[:,-1]\n",
    "mp = np.tile(mp,2)\n",
    "boredom.columns = mp\n",
    "\n",
    "#take the average of macroparcels for each trial\n",
    "boredom = boredom.mean(axis=1, level=0)"
   ]
  },
  {
   "cell_type": "code",
   "execution_count": 44,
   "metadata": {},
   "outputs": [
    {
     "data": {
      "image/png": "[encoded data removed]",
      "text/plain": [
       "<Figure size 432x288 with 2 Axes>"
      ]
     },
     "metadata": {
      "needs_background": "light"
     },
     "output_type": "display_data"
    }
   ],
   "source": [
    "#create a correlation coefficient matrix across all trials\n",
    "\n",
    "new_bored = boredom.T\n",
    "coef = np.corrcoef(new_bored)\n",
    "plt.imshow(coef, interpolation=\"none\", cmap=\"bwr\", vmin=-1, vmax=1)\n",
    "plt.colorbar()\n",
    "plt.show()"
   ]
  },
  {
   "cell_type": "code",
   "execution_count": 45,
   "metadata": {},
   "outputs": [],
   "source": [
    "#Turn correlation coefficient matrix into a vector of absolute values\n",
    "coef = coef.flatten('C')\n",
    "coef = abs(coef)\n",
    "coef = np.array(coef)\n",
    "\n",
    "#sort vector from least to greatest\n",
    "min2max = pd.DataFrame(coef)\n",
    "min2max = min2max.sort_values(by = [0],ascending=True,axis=0)"
   ]
  },
  {
   "cell_type": "code",
   "execution_count": 46,
   "metadata": {},
   "outputs": [],
   "source": [
    "#Create labels for correlation coefficient matrix\n",
    "#(I'm new to python, but I'm positive there's a more efficient way to do this. I apologize.)\n",
    "\n",
    "x_parcels = boredom.columns\n",
    "y_parcels = boredom.columns\n",
    "repeat = []\n",
    "keep = []\n",
    "x_y_comb = []\n",
    "plus = ' + '\n",
    "\n",
    "for y in range(0,len(y_parcels)): #all x's, same y -- and repeat for every y\n",
    "    for x in range(0,len(x_parcels)):\n",
    "        x_y = x_parcels[x] + plus + y_parcels[y]\n",
    "        x_y_comb.append(x_y)\n",
    "        if x_parcels[x] == y_parcels[y]: #indexing the repeats\n",
    "            rep = (len(x_y_comb)) - 1\n",
    "            repeat.append(rep)\n",
    "        if x_parcels[x] != y_parcels[y]: #indexing the repeats\n",
    "            nonrep = x_parcels[x] + plus + y_parcels[y]\n",
    "            keep.append(nonrep)\n",
    "\n",
    "x_y_comb = np.array(x_y_comb)"
   ]
  },
  {
   "cell_type": "code",
   "execution_count": 47,
   "metadata": {},
   "outputs": [],
   "source": [
    "#rename columns so that the correlation coefficient corresponds to the parcel x parcel correlation\n",
    "new_df = np.transpose(coef)\n",
    "new_df = pd.DataFrame(coef)\n",
    "new_df = np.transpose(new_df)\n",
    "new_df.columns = x_y_comb\n",
    "\n",
    "#Delete the columns that are correlations between same parcels\n",
    "new_df = np.array(new_df)\n",
    "new_df = np.delete(new_df,repeat)\n",
    "new_df = pd.DataFrame(new_df).T\n",
    "new_df.columns = np.array(keep)"
   ]
  },
  {
   "cell_type": "code",
   "execution_count": 48,
   "metadata": {},
   "outputs": [
    {
     "name": "stdout",
     "output_type": "stream",
     "text": [
      "   Visual (TPO) + Early Visual  Dorsal Visual + Early Visual  \\\n",
      "0                     0.973519                       0.94204   \n",
      "\n",
      "   Ventral Visual + Early Visual  Sensorimotor + Early Visual  \\\n",
      "0                       0.956013                     0.675272   \n",
      "\n",
      "   Premotor + Early Visual  Posterior Cingulate + Early Visual  \\\n",
      "0                 0.536802                            0.868579   \n",
      "\n",
      "   Early Auditory + Early Visual  \\\n",
      "0                       0.698509   \n",
      "\n",
      "   Temporal-Parietal-Occipital Junction + Early Visual  dlPFC + Early Visual  \\\n",
      "0                                           0.905021                0.523758   \n",
      "\n",
      "   Superior Parietal + Early Visual                 ...                  \\\n",
      "0                          0.864272                 ...                   \n",
      "\n",
      "   Superior Parietal + Lateral Temporal  \\\n",
      "0                              0.829579   \n",
      "\n",
      "   Paracentral & Mid Cingulate + Lateral Temporal  \\\n",
      "0                                        0.681163   \n",
      "\n",
      "   ACC & mPFC + Lateral Temporal  Orbital Frontal + Lateral Temporal  \\\n",
      "0                       0.778276                            0.789463   \n",
      "\n",
      "   Inferior Frontal + Lateral Temporal  Post Operculum + Lateral Temporal  \\\n",
      "0                             0.635597                           0.714593   \n",
      "\n",
      "   Insular + Lateral Temporal  Auditory Association + Lateral Temporal  \\\n",
      "0                    0.782327                                 0.794499   \n",
      "\n",
      "   Inferior Parietal + Lateral Temporal  Medial Temporal + Lateral Temporal  \n",
      "0                              0.875001                            0.832371  \n",
      "\n",
      "[1 rows x 420 columns]\n"
     ]
    }
   ],
   "source": [
    "#If interested in the correlation coefficients between parcels\n",
    "print(new_df)"
   ]
  },
  {
   "cell_type": "code",
   "execution_count": 49,
   "metadata": {},
   "outputs": [],
   "source": [
    "#Import all correct 2-back trials\n",
    "wm = pd.read_csv('D:\\\\df_wm_cor_2bk.csv')\n",
    "wm = pd.DataFrame(wm)\n",
    "wm = wm.iloc[:,13:-1]\n",
    "\n",
    "#take the average of macroparcels for each trial\n",
    "wm.columns = mp\n",
    "wm = wm.mean(axis=1, level=0)"
   ]
  },
  {
   "cell_type": "code",
   "execution_count": 50,
   "metadata": {},
   "outputs": [
    {
     "data": {
      "image/png": "[encoded data removed]",
      "text/plain": [
       "<Figure size 432x288 with 2 Axes>"
      ]
     },
     "metadata": {
      "needs_background": "light"
     },
     "output_type": "display_data"
    }
   ],
   "source": [
    "#create a correlation coefficient matrix across all trials\n",
    "new_wm = wm.T\n",
    "coef = np.corrcoef(new_wm)\n",
    "plt.imshow(coef, interpolation=\"none\", cmap=\"bwr\", vmin=-1, vmax=1)\n",
    "plt.colorbar()\n",
    "plt.show()"
   ]
  },
  {
   "cell_type": "code",
   "execution_count": 51,
   "metadata": {},
   "outputs": [],
   "source": [
    "#Create labels for correlation coefficient matrix, but for the 2-back data\n",
    "\n",
    "#Turn correlation coefficient matrix into a vector of absolute values\n",
    "coef = coef.flatten('C')\n",
    "coef = abs(coef)\n",
    "coef = np.array(coef)\n",
    "\n",
    "#sort vector from least to greatest\n",
    "min2max = pd.DataFrame(coef)\n",
    "min2max = min2max.sort_values(by = [0],ascending=True,axis=0)"
   ]
  },
  {
   "cell_type": "code",
   "execution_count": 52,
   "metadata": {},
   "outputs": [],
   "source": [
    "##Create labels for correlation coefficient matrix\n",
    "\n",
    "x_parcels = wm.columns\n",
    "y_parcels = wm.columns\n",
    "x_y_comb = []\n",
    "repeat = []\n",
    "keep = []\n",
    "plus = ' + '\n",
    "\n",
    "for y in range(0,len(y_parcels)): #all x's, same y -- and repeat for every y\n",
    "    for x in range(0,len(x_parcels)):\n",
    "        x_y = x_parcels[x] + plus + y_parcels[y]\n",
    "        x_y_comb.append(x_y)\n",
    "        if x_parcels[x] == y_parcels[y]: #indexing the repeats\n",
    "            rep = (len(x_y_comb)) - 1\n",
    "            repeat.append(rep)\n",
    "        if x_parcels[x] != y_parcels[y]: #indexing the repeats\n",
    "            nonrep = x_parcels[x] + plus + y_parcels[y]\n",
    "            keep.append(nonrep)\n",
    "            \n",
    "x_y_comb = np.array(x_y_comb)"
   ]
  },
  {
   "cell_type": "code",
   "execution_count": 53,
   "metadata": {},
   "outputs": [],
   "source": [
    "#rename columns so that the correlation coefficient corresponds to the parcel x parcel correlation\n",
    "new_df_wm = np.transpose(coef)\n",
    "new_df_wm = pd.DataFrame(coef)\n",
    "new_df_wm = np.transpose(new_df_wm)\n",
    "new_df_wm.columns = x_y_comb\n",
    "\n",
    "#Delete the columns that are correlations between same parcels\n",
    "new_df_wm = np.array(new_df_wm)\n",
    "new_df_wm = np.delete(new_df_wm,repeat)\n",
    "new_df_wm = pd.DataFrame(new_df_wm).T\n",
    "new_df_wm.columns = np.array(keep)"
   ]
  },
  {
   "cell_type": "code",
   "execution_count": 54,
   "metadata": {},
   "outputs": [
    {
     "name": "stdout",
     "output_type": "stream",
     "text": [
      "   Visual (TPO) + Early Visual  Dorsal Visual + Early Visual  \\\n",
      "0                      0.79761                      0.718275   \n",
      "\n",
      "   Ventral Visual + Early Visual  Sensorimotor + Early Visual  \\\n",
      "0                       0.816479                     0.532015   \n",
      "\n",
      "   Premotor + Early Visual  Posterior Cingulate + Early Visual  \\\n",
      "0                 0.620374                            0.514019   \n",
      "\n",
      "   Early Auditory + Early Visual  \\\n",
      "0                       0.484847   \n",
      "\n",
      "   Temporal-Parietal-Occipital Junction + Early Visual  dlPFC + Early Visual  \\\n",
      "0                                           0.602274                0.489899   \n",
      "\n",
      "   Superior Parietal + Early Visual                 ...                  \\\n",
      "0                          0.552488                 ...                   \n",
      "\n",
      "   Superior Parietal + Lateral Temporal  \\\n",
      "0                              0.598641   \n",
      "\n",
      "   Paracentral & Mid Cingulate + Lateral Temporal  \\\n",
      "0                                        0.576634   \n",
      "\n",
      "   ACC & mPFC + Lateral Temporal  Orbital Frontal + Lateral Temporal  \\\n",
      "0                       0.656458                            0.550471   \n",
      "\n",
      "   Inferior Frontal + Lateral Temporal  Post Operculum + Lateral Temporal  \\\n",
      "0                             0.696895                           0.524729   \n",
      "\n",
      "   Insular + Lateral Temporal  Auditory Association + Lateral Temporal  \\\n",
      "0                    0.661885                                 0.697945   \n",
      "\n",
      "   Inferior Parietal + Lateral Temporal  Medial Temporal + Lateral Temporal  \n",
      "0                              0.702251                            0.513007  \n",
      "\n",
      "[1 rows x 420 columns]\n"
     ]
    }
   ],
   "source": [
    "#If interested in the correlation coefficients between parcels\n",
    "print(new_df_wm)"
   ]
  },
  {
   "cell_type": "code",
   "execution_count": 55,
   "metadata": {},
   "outputs": [
    {
     "name": "stdout",
     "output_type": "stream",
     "text": [
      "   Visual (TPO) + Orbital Frontal  Orbital Frontal + Ventral Visual  \\\n",
      "0                        0.542384                          0.532488   \n",
      "\n",
      "   Early Visual + Orbital Frontal  Posterior Cingulate + Visual (TPO)  \\\n",
      "0                        0.505632                            0.455953   \n",
      "\n",
      "   Superior Parietal + Medial Temporal  Medial Temporal + Orbital Frontal  \\\n",
      "0                             0.439535                           0.430855   \n",
      "\n",
      "   Medial Temporal + Visual (TPO)  \\\n",
      "0                        0.415773   \n",
      "\n",
      "   Temporal-Parietal-Occipital Junction + Medial Temporal  \\\n",
      "0                                           0.400571        \n",
      "\n",
      "   Ventral Visual + Posterior Cingulate  \\\n",
      "0                              0.389834   \n",
      "\n",
      "   Orbital Frontal + Temporal-Parietal-Occipital Junction  \\\n",
      "0                                           0.379287        \n",
      "\n",
      "               ...               Inferior Frontal + Lateral Temporal  \\\n",
      "0              ...                                         -0.061299   \n",
      "\n",
      "   Inferior Frontal + Temporal-Parietal-Occipital Junction  \\\n",
      "0                                          -0.064743         \n",
      "\n",
      "   Temporal-Parietal-Occipital Junction + Premotor  Visual (TPO) + Premotor  \\\n",
      "0                                        -0.068209                -0.072152   \n",
      "\n",
      "   Early Visual + Premotor  Ventral Visual + Premotor  \\\n",
      "0                -0.083572                  -0.085632   \n",
      "\n",
      "   Inferior Parietal + dlPFC  Inferior Frontal + Inferior Parietal  \\\n",
      "0                  -0.094357                             -0.113978   \n",
      "\n",
      "   Superior Parietal + Premotor  Premotor + Inferior Parietal  \n",
      "0                     -0.120029                     -0.131487  \n",
      "\n",
      "[1 rows x 210 columns]\n"
     ]
    }
   ],
   "source": [
    "#Which correlations during \"bored\" trials were higher relative to correlation during correct 2-back WM trials\n",
    "bor_min_wm = new_df - new_df_wm\n",
    "bor_min_wm.sort_values(by=0, axis=1, ascending=False, inplace=True)\n",
    "#Select every other column, since X x Y and Y x X correlations are redundant\n",
    "bor_min_wm = bor_min_wm[bor_min_wm.columns[::2]]\n",
    "\n",
    "#Print results\n",
    "print(bor_min_wm)"
   ]
  },
  {
   "cell_type": "code",
   "execution_count": 56,
   "metadata": {},
   "outputs": [
    {
     "data": {
      "image/png": "[encoded data removed]",
      "text/plain": [
       "<Figure size 432x288 with 2 Axes>"
      ]
     },
     "metadata": {
      "needs_background": "light"
     },
     "output_type": "display_data"
    }
   ],
   "source": [
    "#Show the resulting correlation coefficient matrix\n",
    "\n",
    "new_bored = boredom.T\n",
    "coef1 = np.corrcoef(new_bored)\n",
    "new_wm = wm.T\n",
    "coef2 = np.corrcoef(new_wm)\n",
    "diff_mat = coef1 - coef2\n",
    "\n",
    "plt.imshow(diff_mat, interpolation=\"none\", cmap=\"plasma\", vmin=-1, vmax=1)\n",
    "plt.colorbar()\n",
    "plt.xlabel('Macroparcels')\n",
    "plt.ylabel('Macroparcels')\n",
    "\n",
    "plt.show()"
   ]
  },
  {
   "cell_type": "code",
   "execution_count": 57,
   "metadata": {},
   "outputs": [
    {
     "data": {
      "image/png": "[encoded data removed]",
      "text/plain": [
       "<Figure size 432x288 with 1 Axes>"
      ]
     },
     "metadata": {
      "needs_background": "light"
     },
     "output_type": "display_data"
    }
   ],
   "source": [
    "#Plot histogram of the difference in correlation coefficients\n",
    "plt.hist(bor_min_wm,color = 'g',alpha=.5)\n",
    "\n",
    "#These correlations were hand-selected (i.e., brute forced) simply for illustration\n",
    "plt.axvline(np.array(bor_min_wm['Superior Parietal + Medial Temporal']), color='r', label='SP x MT')\n",
    "plt.axvline(np.array(bor_min_wm['Medial Temporal + Orbital Frontal']),color='k',label = 'MT x OF')\n",
    "plt.axvline(np.array(bor_min_wm['Orbital Frontal + Temporal-Parietal-Occipital Junction']),color='y',label = 'TPOJ x OF')\n",
    "plt.axvline(np.array(bor_min_wm['Inferior Parietal + Medial Temporal']),color='b',label = 'IP x MT')\n",
    "plt.legend(title='DMN Regions')\n",
    "\n",
    "plt.title('Difference in Functional Connectivity',fontsize=15)\n",
    "plt.xlabel('Difference in Correlation Coefficients\\n(No Response - Response trials)',fontsize=13)\n",
    "plt.ylabel('Count',fontsize=14)\n",
    "plt.show()"
   ]
  }
 ],
 "metadata": {
  "kernelspec": {
   "display_name": "Python 3",
   "language": "python",
   "name": "python3"
  },
  "language_info": {
   "codemirror_mode": {
    "name": "ipython",
    "version": 3
   },
   "file_extension": ".py",
   "mimetype": "text/x-python",
   "name": "python",
   "nbconvert_exporter": "python",
   "pygments_lexer": "ipython3",
   "version": "3.7.1"
  }
 },
 "nbformat": 4,
 "nbformat_minor": 2
}
